{
 "cells": [
  {
   "cell_type": "markdown",
   "id": "04b1a083",
   "metadata": {},
   "source": [
    "# Recurrent Neural Network Demonstration"
   ]
  },
  {
   "cell_type": "markdown",
   "id": "a0831fe4",
   "metadata": {},
   "source": [
    "In this note book we will show a practical demonstration of recurrent neural networks. We will use an RNN to predict the future prices of a particular stock. Note: the purpose of this demonstration is to show how an RNN can be implemented. There are many other stock price prediction methods out there, and literature regarding the predictability of stock prices is present in abundance. Interested readers are encouraged to read those papers and decide for yourself whether machine learning for stock price prediction is an interesting reseach topic. "
   ]
  },
  {
   "cell_type": "code",
   "execution_count": 1,
   "id": "65b7111c",
   "metadata": {},
   "outputs": [
    {
     "name": "stdout",
     "output_type": "stream",
     "text": [
      "False\n"
     ]
    }
   ],
   "source": [
    "import torch\n",
    "import torch.nn as nn\n",
    "import pandas as pd\n",
    "import matplotlib.pyplot as plt\n",
    "import os\n",
    "import copy\n",
    "import numpy as np\n",
    "\n",
    "print(torch.cuda.is_available())"
   ]
  },
  {
   "cell_type": "markdown",
   "id": "df37fd37",
   "metadata": {},
   "source": [
    "We will apply our model on minute-level prices of Amazon obtained on a particular day"
   ]
  },
  {
   "cell_type": "code",
   "execution_count": 2,
   "id": "72b53191",
   "metadata": {},
   "outputs": [],
   "source": [
    "#os.chdir(\"C:/Users/tonyz/Desktop/GRUVAE/data/usingmean\") #set the directory of your data location\n",
    "data = pd.read_csv(\"AMZN_put.csv\").dropna()\n",
    "data = data[[\"Stock\"]]\n",
    "\n",
    "#os.chdir(\"C:/Users/tonyz/Desktop/RNN notebook\") #set the directory of your code location\n",
    "from data_loader_LSTM_Options import create_inout_sequences"
   ]
  },
  {
   "cell_type": "markdown",
   "id": "f3ef609c",
   "metadata": {},
   "source": [
    "We will now split our data into training, validation and test sets, before putting them into a dataloader. We use 300 steps for training, 30 steps for validation, and 30 steps for prediction. Since we are doing forecasting in a supervised setting, we will use a lag value of 5. Feel free to print the shape of the input and outputs to get a better understanding."
   ]
  },
  {
   "cell_type": "code",
   "execution_count": 3,
   "id": "58209fcc",
   "metadata": {},
   "outputs": [
    {
     "name": "stderr",
     "output_type": "stream",
     "text": [
      "/Users/eirikbaekkelund/Desktop/UCL/Code/FinanceTradingApps/notebooks/data_loader_LSTM_Options.py:25: UserWarning: Creating a tensor from a list of numpy.ndarrays is extremely slow. Please consider converting the list to a single numpy.ndarray with numpy.array() before converting to a tensor. (Triggered internally at /Users/runner/work/pytorch/pytorch/pytorch/torch/csrc/utils/tensor_new.cpp:233.)\n",
      "  y_train = torch.tensor(y[:-test_size])\n"
     ]
    }
   ],
   "source": [
    "train_steps = 300\n",
    "val_steps = 30\n",
    "tw = 5\n",
    "pred_size = 30\n",
    "train_size = train_steps/tw\n",
    "validation_size = int(val_steps/tw)\n",
    "test_size = int(len(data)//tw-train_size)\n",
    "train_loader, test_loader,scaler = create_inout_sequences(data, tw, test_size)"
   ]
  },
  {
   "cell_type": "markdown",
   "id": "595b8c5e",
   "metadata": {},
   "source": [
    "We will now code the most important section: the RNN implementation in Pytorch. In particular, we will implement a GRU model with a hidden size of 64. Switching to an LSTM model should be straightforward."
   ]
  },
  {
   "cell_type": "code",
   "execution_count": 49,
   "id": "ae5510e0",
   "metadata": {},
   "outputs": [],
   "source": [
    "class LSTM(nn.Module):\n",
    "    def __init__(self, input_size=1, hidden_layer_size=64, output_size=1):\n",
    "        super().__init__()\n",
    "        self.hidden_layer_size = hidden_layer_size\n",
    "\n",
    "        self.lstm = nn.LSTM(input_size, hidden_layer_size, batch_first=True) #change this to nn.lstm for lstm model\n",
    "\n",
    "        self.linear = nn.Linear(hidden_layer_size, output_size)\n",
    "\n",
    "    def forward(self, inputs):\n",
    "        \n",
    "        _,lstm_out = self.lstm(inputs.view(1,len(inputs),1).float())\n",
    "        lstm_out = lstm_out.view(1,-1)\n",
    "        prediction = self.linear(lstm_out)\n",
    "        return prediction"
   ]
  },
  {
   "cell_type": "markdown",
   "id": "2959af9d",
   "metadata": {},
   "source": [
    "Our model will run faster on the GPU than on cpu so we will set our device to be \"cuda\". We will use the mean-squared-error loss function as our error metric. Our optimizer for gradient descent is ADAM with a learning rate of 0.005 and training for 50 epochs."
   ]
  },
  {
   "cell_type": "code",
   "execution_count": 50,
   "id": "382bf4fb",
   "metadata": {},
   "outputs": [],
   "source": [
    "torch.manual_seed(0)\n",
    "device = torch.device(\"cpu\")\n",
    "#device = torch.device(\"cuda\")\n",
    "model = LSTM().to(device)\n",
    "loss_function = nn.MSELoss()\n",
    "optimizer = torch.optim.Adam(model.parameters(), lr=0.005)\n",
    "\n",
    "epochs = 50"
   ]
  },
  {
   "cell_type": "markdown",
   "id": "80f45058",
   "metadata": {},
   "source": [
    "We will now define a function which we will use for model training and evaluation. For model training in Pytorch, we have to specify model.train(), optimizer.zero_grad(), loss.backward() and optimizer.step(). These are standard procedures you have to include in your code for every project. When we evaluate the model, we have to specify with torch.no_grad(). We will save the model for after every epoch and compute the validation loss. We will then choose as our final model the one with the lowest validation error."
   ]
  },
  {
   "cell_type": "code",
   "execution_count": 51,
   "id": "c679a7dc",
   "metadata": {},
   "outputs": [],
   "source": [
    "def train_and_val(epochs):\n",
    "    models = []\n",
    "    val_loss_list = []\n",
    "    x = train_loader.dataset.tensors[0].to(device)\n",
    "    y = train_loader.dataset.tensors[1].to(device)\n",
    "    \n",
    "    x2 = test_loader.dataset.tensors[0].to(device)\n",
    "    y2 = test_loader.dataset.tensors[1].to(device)\n",
    "    for j in range(epochs):\n",
    "        train_loss = 0\n",
    "        model.train()\n",
    "        optimizer.zero_grad()\n",
    "        for i in range(len(x)):\n",
    "            print(y[i].float())\n",
    "            y_pred = model(x[i])\n",
    "            print(y[i].float())\n",
    "            single_loss = loss_function(y_pred.float(), y[i].float().view(-1,1))\n",
    "            train_loss += single_loss\n",
    "        train_loss.backward()\n",
    "        optimizer.step()\n",
    "        copymodel = copy.deepcopy(model)\n",
    "        models.append(copymodel)\n",
    "\n",
    "        val_loss = nn.MSELoss()\n",
    "        with torch.no_grad():\n",
    "            model.eval()\n",
    "            validation_x = x2[:validation_size]\n",
    "            validation_y = y2[:validation_size]\n",
    "            validation_loss = 0\n",
    "            for k in range(len(validation_x)):\n",
    "                prediction = model(validation_x[k])\n",
    "                print(validation_y[k].view(-1,1).float())\n",
    "                loss = val_loss(prediction.float(), validation_y[k].view(-1,1).float())\n",
    "                validation_loss += loss\n",
    "            val_loss_list.append(validation_loss.item())\n",
    "        print(f\"\\tEpoch: {j}, Train Loss: {train_loss:.4f}, Validation Loss: {validation_loss:.4f}\")\n",
    "    val, idx = min((val, idx) for (idx, val) in enumerate(val_loss_list))\n",
    "    print(idx)\n",
    "    return models[idx]"
   ]
  },
  {
   "cell_type": "code",
   "execution_count": 52,
   "id": "d110147b",
   "metadata": {},
   "outputs": [
    {
     "name": "stdout",
     "output_type": "stream",
     "text": [
      "tensor([1.9386])\n"
     ]
    },
    {
     "ename": "AttributeError",
     "evalue": "'tuple' object has no attribute 'view'",
     "output_type": "error",
     "traceback": [
      "\u001b[0;31m---------------------------------------------------------------------------\u001b[0m",
      "\u001b[0;31mAttributeError\u001b[0m                            Traceback (most recent call last)",
      "\u001b[0;32m/var/folders/3f/5b_39xqs2tlgzd30m4ll014r0000gn/T/ipykernel_85770/1617058605.py\u001b[0m in \u001b[0;36m<module>\u001b[0;34m\u001b[0m\n\u001b[0;32m----> 1\u001b[0;31m \u001b[0mchosen_model\u001b[0m \u001b[0;34m=\u001b[0m \u001b[0mtrain_and_val\u001b[0m\u001b[0;34m(\u001b[0m\u001b[0mepochs\u001b[0m\u001b[0;34m)\u001b[0m\u001b[0;34m.\u001b[0m\u001b[0mto\u001b[0m\u001b[0;34m(\u001b[0m\u001b[0;34m\"cpu\"\u001b[0m\u001b[0;34m)\u001b[0m\u001b[0;34m\u001b[0m\u001b[0;34m\u001b[0m\u001b[0m\n\u001b[0m\u001b[1;32m      2\u001b[0m \u001b[0mtest_x\u001b[0m \u001b[0;34m=\u001b[0m \u001b[0mtest_loader\u001b[0m\u001b[0;34m.\u001b[0m\u001b[0mdataset\u001b[0m\u001b[0;34m.\u001b[0m\u001b[0mtensors\u001b[0m\u001b[0;34m[\u001b[0m\u001b[0;36m0\u001b[0m\u001b[0;34m]\u001b[0m\u001b[0;34m[\u001b[0m\u001b[0mvalidation_size\u001b[0m\u001b[0;34m:\u001b[0m\u001b[0;34m]\u001b[0m\u001b[0;34m\u001b[0m\u001b[0;34m\u001b[0m\u001b[0m\n\u001b[1;32m      3\u001b[0m \u001b[0mtest_y\u001b[0m \u001b[0;34m=\u001b[0m \u001b[0mtest_loader\u001b[0m\u001b[0;34m.\u001b[0m\u001b[0mdataset\u001b[0m\u001b[0;34m.\u001b[0m\u001b[0mtensors\u001b[0m\u001b[0;34m[\u001b[0m\u001b[0;36m1\u001b[0m\u001b[0;34m]\u001b[0m\u001b[0;34m[\u001b[0m\u001b[0mvalidation_size\u001b[0m\u001b[0;34m:\u001b[0m\u001b[0;34m]\u001b[0m\u001b[0;34m\u001b[0m\u001b[0;34m\u001b[0m\u001b[0m\n",
      "\u001b[0;32m/var/folders/3f/5b_39xqs2tlgzd30m4ll014r0000gn/T/ipykernel_85770/158067725.py\u001b[0m in \u001b[0;36mtrain_and_val\u001b[0;34m(epochs)\u001b[0m\n\u001b[1;32m     13\u001b[0m         \u001b[0;32mfor\u001b[0m \u001b[0mi\u001b[0m \u001b[0;32min\u001b[0m \u001b[0mrange\u001b[0m\u001b[0;34m(\u001b[0m\u001b[0mlen\u001b[0m\u001b[0;34m(\u001b[0m\u001b[0mx\u001b[0m\u001b[0;34m)\u001b[0m\u001b[0;34m)\u001b[0m\u001b[0;34m:\u001b[0m\u001b[0;34m\u001b[0m\u001b[0;34m\u001b[0m\u001b[0m\n\u001b[1;32m     14\u001b[0m             \u001b[0mprint\u001b[0m\u001b[0;34m(\u001b[0m\u001b[0my\u001b[0m\u001b[0;34m[\u001b[0m\u001b[0mi\u001b[0m\u001b[0;34m]\u001b[0m\u001b[0;34m.\u001b[0m\u001b[0mfloat\u001b[0m\u001b[0;34m(\u001b[0m\u001b[0;34m)\u001b[0m\u001b[0;34m)\u001b[0m\u001b[0;34m\u001b[0m\u001b[0;34m\u001b[0m\u001b[0m\n\u001b[0;32m---> 15\u001b[0;31m             \u001b[0my_pred\u001b[0m \u001b[0;34m=\u001b[0m \u001b[0mmodel\u001b[0m\u001b[0;34m(\u001b[0m\u001b[0mx\u001b[0m\u001b[0;34m[\u001b[0m\u001b[0mi\u001b[0m\u001b[0;34m]\u001b[0m\u001b[0;34m)\u001b[0m\u001b[0;34m\u001b[0m\u001b[0;34m\u001b[0m\u001b[0m\n\u001b[0m\u001b[1;32m     16\u001b[0m             \u001b[0mprint\u001b[0m\u001b[0;34m(\u001b[0m\u001b[0my\u001b[0m\u001b[0;34m[\u001b[0m\u001b[0mi\u001b[0m\u001b[0;34m]\u001b[0m\u001b[0;34m.\u001b[0m\u001b[0mfloat\u001b[0m\u001b[0;34m(\u001b[0m\u001b[0;34m)\u001b[0m\u001b[0;34m)\u001b[0m\u001b[0;34m\u001b[0m\u001b[0;34m\u001b[0m\u001b[0m\n\u001b[1;32m     17\u001b[0m             \u001b[0msingle_loss\u001b[0m \u001b[0;34m=\u001b[0m \u001b[0mloss_function\u001b[0m\u001b[0;34m(\u001b[0m\u001b[0my_pred\u001b[0m\u001b[0;34m.\u001b[0m\u001b[0mfloat\u001b[0m\u001b[0;34m(\u001b[0m\u001b[0;34m)\u001b[0m\u001b[0;34m,\u001b[0m \u001b[0my\u001b[0m\u001b[0;34m[\u001b[0m\u001b[0mi\u001b[0m\u001b[0;34m]\u001b[0m\u001b[0;34m.\u001b[0m\u001b[0mfloat\u001b[0m\u001b[0;34m(\u001b[0m\u001b[0;34m)\u001b[0m\u001b[0;34m.\u001b[0m\u001b[0mview\u001b[0m\u001b[0;34m(\u001b[0m\u001b[0;34m-\u001b[0m\u001b[0;36m1\u001b[0m\u001b[0;34m,\u001b[0m\u001b[0;36m1\u001b[0m\u001b[0;34m)\u001b[0m\u001b[0;34m)\u001b[0m\u001b[0;34m\u001b[0m\u001b[0;34m\u001b[0m\u001b[0m\n",
      "\u001b[0;32m~/opt/anaconda3/lib/python3.9/site-packages/torch/nn/modules/module.py\u001b[0m in \u001b[0;36m_call_impl\u001b[0;34m(self, *input, **kwargs)\u001b[0m\n\u001b[1;32m   1192\u001b[0m         if not (self._backward_hooks or self._forward_hooks or self._forward_pre_hooks or _global_backward_hooks\n\u001b[1;32m   1193\u001b[0m                 or _global_forward_hooks or _global_forward_pre_hooks):\n\u001b[0;32m-> 1194\u001b[0;31m             \u001b[0;32mreturn\u001b[0m \u001b[0mforward_call\u001b[0m\u001b[0;34m(\u001b[0m\u001b[0;34m*\u001b[0m\u001b[0minput\u001b[0m\u001b[0;34m,\u001b[0m \u001b[0;34m**\u001b[0m\u001b[0mkwargs\u001b[0m\u001b[0;34m)\u001b[0m\u001b[0;34m\u001b[0m\u001b[0;34m\u001b[0m\u001b[0m\n\u001b[0m\u001b[1;32m   1195\u001b[0m         \u001b[0;31m# Do not call functions when jit is used\u001b[0m\u001b[0;34m\u001b[0m\u001b[0;34m\u001b[0m\u001b[0m\n\u001b[1;32m   1196\u001b[0m         \u001b[0mfull_backward_hooks\u001b[0m\u001b[0;34m,\u001b[0m \u001b[0mnon_full_backward_hooks\u001b[0m \u001b[0;34m=\u001b[0m \u001b[0;34m[\u001b[0m\u001b[0;34m]\u001b[0m\u001b[0;34m,\u001b[0m \u001b[0;34m[\u001b[0m\u001b[0;34m]\u001b[0m\u001b[0;34m\u001b[0m\u001b[0;34m\u001b[0m\u001b[0m\n",
      "\u001b[0;32m/var/folders/3f/5b_39xqs2tlgzd30m4ll014r0000gn/T/ipykernel_85770/534360405.py\u001b[0m in \u001b[0;36mforward\u001b[0;34m(self, inputs)\u001b[0m\n\u001b[1;32m     11\u001b[0m \u001b[0;34m\u001b[0m\u001b[0m\n\u001b[1;32m     12\u001b[0m         \u001b[0m_\u001b[0m\u001b[0;34m,\u001b[0m\u001b[0mlstm_out\u001b[0m \u001b[0;34m=\u001b[0m \u001b[0mself\u001b[0m\u001b[0;34m.\u001b[0m\u001b[0mlstm\u001b[0m\u001b[0;34m(\u001b[0m\u001b[0minputs\u001b[0m\u001b[0;34m.\u001b[0m\u001b[0mview\u001b[0m\u001b[0;34m(\u001b[0m\u001b[0;36m1\u001b[0m\u001b[0;34m,\u001b[0m\u001b[0mlen\u001b[0m\u001b[0;34m(\u001b[0m\u001b[0minputs\u001b[0m\u001b[0;34m)\u001b[0m\u001b[0;34m,\u001b[0m\u001b[0;36m1\u001b[0m\u001b[0;34m)\u001b[0m\u001b[0;34m.\u001b[0m\u001b[0mfloat\u001b[0m\u001b[0;34m(\u001b[0m\u001b[0;34m)\u001b[0m\u001b[0;34m)\u001b[0m\u001b[0;34m\u001b[0m\u001b[0;34m\u001b[0m\u001b[0m\n\u001b[0;32m---> 13\u001b[0;31m         \u001b[0mlstm_out\u001b[0m \u001b[0;34m=\u001b[0m \u001b[0mlstm_out\u001b[0m\u001b[0;34m.\u001b[0m\u001b[0mview\u001b[0m\u001b[0;34m(\u001b[0m\u001b[0;36m1\u001b[0m\u001b[0;34m,\u001b[0m\u001b[0;34m-\u001b[0m\u001b[0;36m1\u001b[0m\u001b[0;34m)\u001b[0m\u001b[0;34m\u001b[0m\u001b[0;34m\u001b[0m\u001b[0m\n\u001b[0m\u001b[1;32m     14\u001b[0m         \u001b[0mprediction\u001b[0m \u001b[0;34m=\u001b[0m \u001b[0mself\u001b[0m\u001b[0;34m.\u001b[0m\u001b[0mlinear\u001b[0m\u001b[0;34m(\u001b[0m\u001b[0mlstm_out\u001b[0m\u001b[0;34m)\u001b[0m\u001b[0;34m\u001b[0m\u001b[0;34m\u001b[0m\u001b[0m\n\u001b[1;32m     15\u001b[0m         \u001b[0;32mreturn\u001b[0m \u001b[0mprediction\u001b[0m\u001b[0;34m\u001b[0m\u001b[0;34m\u001b[0m\u001b[0m\n",
      "\u001b[0;31mAttributeError\u001b[0m: 'tuple' object has no attribute 'view'"
     ]
    }
   ],
   "source": [
    "chosen_model = train_and_val(epochs).to(\"cpu\")\n",
    "test_x = test_loader.dataset.tensors[0][validation_size:]\n",
    "test_y = test_loader.dataset.tensors[1][validation_size:]"
   ]
  },
  {
   "cell_type": "markdown",
   "id": "30bd67eb",
   "metadata": {},
   "source": [
    "Recall that before training our RNN, we scaled our input data to make it easier for the neural network to perform gradient descent. After training our model, we now need to convert our predictions back to their original scale. This is done through the inverse function. "
   ]
  },
  {
   "cell_type": "code",
   "execution_count": 9,
   "id": "6555a3e9",
   "metadata": {},
   "outputs": [
    {
     "name": "stderr",
     "output_type": "stream",
     "text": [
      "/var/folders/3f/5b_39xqs2tlgzd30m4ll014r0000gn/T/ipykernel_85770/2155607970.py:11: UserWarning: To copy construct from a tensor, it is recommended to use sourceTensor.clone().detach() or sourceTensor.clone().detach().requires_grad_(True), rather than torch.tensor(sourceTensor).\n",
      "  d = torch.cat([torch.tensor(y),torch.tensor(y)], dim=-1).numpy()\n",
      "/var/folders/3f/5b_39xqs2tlgzd30m4ll014r0000gn/T/ipykernel_85770/2155607970.py:11: UserWarning: To copy construct from a tensor, it is recommended to use sourceTensor.clone().detach() or sourceTensor.clone().detach().requires_grad_(True), rather than torch.tensor(sourceTensor).\n",
      "  d = torch.cat([torch.tensor(y),torch.tensor(y)], dim=-1).numpy()\n"
     ]
    },
    {
     "data": {
      "image/png": "[encoded data removed]",
      "text/plain": [
       "<Figure size 640x480 with 1 Axes>"
      ]
     },
     "metadata": {},
     "output_type": "display_data"
    }
   ],
   "source": [
    "model.to(\"cpu\")\n",
    "test_predictions = []\n",
    "tests = []\n",
    "for i in range(len(test_x)):\n",
    "    prediction = chosen_model(test_x[i]).view(-1).detach().tolist()\n",
    "    test_predictions.append(prediction)\n",
    "    test = test_y[i].tolist()\n",
    "    tests.append(test)\n",
    "    \n",
    "def inverse(y, scaler):\n",
    "    d = torch.cat([torch.tensor(y),torch.tensor(y)], dim=-1).numpy()\n",
    "    d = scaler.inverse_transform(d)\n",
    "    return d\n",
    "\n",
    "test_predictions = inverse(torch.tensor(test_predictions).view(-1,1),scaler)[:,1][:pred_size]\n",
    "tests = inverse(torch.tensor(tests).view(-1,1),scaler)[:,1][:pred_size]\n",
    "plt.plot(test_predictions, label='pred');\n",
    "plt.plot(tests, label='ground truth');\n",
    "plt.legend();"
   ]
  },
  {
   "cell_type": "markdown",
   "id": "05a3a53f",
   "metadata": {},
   "source": [
    "We end by plotting the our predictions (orange) against the actual observed values. We see that for the first few steps our model does pretty well, however the performance drops quite siginificantly for the last few steps. Below is the code used to evluate the performance of a time series prediction model. Have a look at the formula for the normalised-mean-squared-error and the mean-absolute-percentage-error on wikipedia to make sure you understand what they are measuring."
   ]
  },
  {
   "cell_type": "code",
   "execution_count": 10,
   "id": "ea5d2dd8",
   "metadata": {},
   "outputs": [],
   "source": [
    "def compute_nrmse(prediction,actual):\n",
    "    #prediction = prediction.tolist()\n",
    "    actual = actual.tolist()\n",
    "    mse = []\n",
    "    for i in range(len(prediction)):\n",
    "       mse.append((prediction[i]-actual[i])**2)\n",
    "    nrmse = ((sum(mse)/len(actual))**0.5)/np.mean(actual)\n",
    "    return nrmse \n",
    "\n",
    "def compute_mape(prediction,actual):\n",
    "    #prediction = prediction.tolist()\n",
    "    actual = actual.tolist()\n",
    "    mape = []\n",
    "    for i in range(len(prediction)):\n",
    "       mape.append(abs(actual[i]-prediction[i])/actual[i])  \n",
    "    mape = sum(mape)/len(actual)\n",
    "    return mape"
   ]
  },
  {
   "cell_type": "code",
   "execution_count": 11,
   "id": "f566c4bd",
   "metadata": {},
   "outputs": [
    {
     "data": {
      "text/plain": [
       "0.0009620013031295479"
      ]
     },
     "execution_count": 11,
     "metadata": {},
     "output_type": "execute_result"
    }
   ],
   "source": [
    "compute_nrmse(test_predictions,tests)"
   ]
  },
  {
   "cell_type": "code",
   "execution_count": 12,
   "id": "0cf6a142",
   "metadata": {},
   "outputs": [
    {
     "data": {
      "text/plain": [
       "0.0006394791482696197"
      ]
     },
     "execution_count": 12,
     "metadata": {},
     "output_type": "execute_result"
    }
   ],
   "source": [
    "compute_mape(test_predictions,tests)"
   ]
  },
  {
   "cell_type": "code",
   "execution_count": null,
   "id": "e473ad8e",
   "metadata": {},
   "outputs": [],
   "source": []
  }
 ],
 "metadata": {
  "kernelspec": {
   "display_name": "base",
   "language": "python",
   "name": "python3"
  },
  "language_info": {
   "codemirror_mode": {
    "name": "ipython",
    "version": 3
   },
   "file_extension": ".py",
   "mimetype": "text/x-python",
   "name": "python",
   "nbconvert_exporter": "python",
   "pygments_lexer": "ipython3",
   "version": "3.9.13"
  },
  "vscode": {
   "interpreter": {
    "hash": "fe3f05434994f8f40b62b7a842a4d284a09e5cdb62d98927152580f7c19a8881"
   }
  }
 },
 "nbformat": 4,
 "nbformat_minor": 5
}
