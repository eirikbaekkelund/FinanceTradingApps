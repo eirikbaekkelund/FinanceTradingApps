{
 "cells": [
  {
   "cell_type": "markdown",
   "id": "04b1a083",
   "metadata": {},
   "source": [
    "# Recurrent Neural Network Demonstration"
   ]
  },
  {
   "cell_type": "markdown",
   "id": "a0831fe4",
   "metadata": {},
   "source": [
    "In this note book we will show a practical demonstration of recurrent neural networks. We will use an RNN to predict the future prices of a particular stock. Note: the purpose of this demonstration is to show how an RNN can be implemented. There are many other stock price prediction methods out there, and literature regarding the predictability of stock prices is present in abundance. Interested readers are encouraged to read those papers and decide for yourself whether machine learning for stock price prediction is an interesting reseach topic. "
   ]
  },
  {
   "cell_type": "code",
   "execution_count": 12,
   "id": "65b7111c",
   "metadata": {},
   "outputs": [
    {
     "name": "stdout",
     "output_type": "stream",
     "text": [
      "False\n"
     ]
    }
   ],
   "source": [
    "import torch\n",
    "import torch.nn as nn\n",
    "import pandas as pd\n",
    "import matplotlib.pyplot as plt\n",
    "import os\n",
    "import copy\n",
    "import numpy as np\n",
    "\n",
    "print(torch.cuda.is_available())"
   ]
  },
  {
   "cell_type": "markdown",
   "id": "df37fd37",
   "metadata": {},
   "source": [
    "We will apply our model on minute-level prices of Amazon obtained on a particular day"
   ]
  },
  {
   "cell_type": "code",
   "execution_count": 13,
   "id": "72b53191",
   "metadata": {},
   "outputs": [],
   "source": [
    "#os.chdir(\"C:/Users/tonyz/Desktop/GRUVAE/data/usingmean\") #set the directory of your data location\n",
    "data = pd.read_csv(\"AMZN_put.csv\").dropna()\n",
    "data = data[[\"Stock\"]]\n",
    "\n",
    "#os.chdir(\"C:/Users/tonyz/Desktop/RNN notebook\") #set the directory of your code location\n",
    "from data_loader_LSTM_Options import create_inout_sequences"
   ]
  },
  {
   "cell_type": "markdown",
   "id": "f3ef609c",
   "metadata": {},
   "source": [
    "We will now split our data into training, validation and test sets, before putting them into a dataloader. We use 300 steps for training, 30 steps for validation, and 30 steps for prediction. Since we are doing forecasting in a supervised setting, we will use a lag value of 5. Feel free to print the shape of the input and outputs to get a better understanding."
   ]
  },
  {
   "cell_type": "code",
   "execution_count": 14,
   "id": "58209fcc",
   "metadata": {},
   "outputs": [],
   "source": [
    "train_steps = 300\n",
    "val_steps = 30\n",
    "tw = 5\n",
    "pred_size = 30\n",
    "train_size = train_steps/tw\n",
    "validation_size = int(val_steps/tw)\n",
    "test_size = int(len(data)//tw-train_size)\n",
    "train_loader, test_loader,scaler = create_inout_sequences(data, tw, test_size)"
   ]
  },
  {
   "cell_type": "markdown",
   "id": "595b8c5e",
   "metadata": {},
   "source": [
    "We will now code the most important section: the RNN implementation in Pytorch. In particular, we will implement a GRU model with a hidden size of 64. Switching to an LSTM model should be straightforward."
   ]
  },
  {
   "cell_type": "code",
   "execution_count": 4,
   "id": "ae5510e0",
   "metadata": {},
   "outputs": [],
   "source": [
    "class LSTM(nn.Module):\n",
    "    def __init__(self, input_size=1, hidden_layer_size=64, output_size=1):\n",
    "        super().__init__()\n",
    "        self.hidden_layer_size = hidden_layer_size\n",
    "\n",
    "        self.lstm = nn.GRU(input_size, hidden_layer_size, batch_first=True) #change this to nn.lstm for lstm model\n",
    "\n",
    "        self.linear = nn.Linear(hidden_layer_size, output_size)\n",
    "\n",
    "    def forward(self, inputs):\n",
    "        \n",
    "        _,lstm_out = self.lstm(inputs.view(1,len(inputs),1).float())\n",
    "        lstm_out = lstm_out.view(1,-1)\n",
    "        prediction = self.linear(lstm_out)\n",
    "        return prediction"
   ]
  },
  {
   "cell_type": "markdown",
   "id": "2959af9d",
   "metadata": {},
   "source": [
    "Our model will run faster on the GPU than on cpu so we will set our device to be \"cuda\". We will use the mean-squared-error loss function as our error metric. Our optimizer for gradient descent is ADAM with a learning rate of 0.005 and training for 50 epochs."
   ]
  },
  {
   "cell_type": "code",
   "execution_count": 15,
   "id": "382bf4fb",
   "metadata": {},
   "outputs": [],
   "source": [
    "torch.manual_seed(0)\n",
    "device = torch.device(\"cpu\")\n",
    "#device = torch.device(\"cuda\")\n",
    "model = LSTM().to(device)\n",
    "loss_function = nn.MSELoss()\n",
    "optimizer = torch.optim.Adam(model.parameters(), lr=0.005)\n",
    "\n",
    "epochs = 50"
   ]
  },
  {
   "cell_type": "markdown",
   "id": "80f45058",
   "metadata": {},
   "source": [
    "We will now define a function which we will use for model training and evaluation. For model training in Pytorch, we have to specify model.train(), optimizer.zero_grad(), loss.backward() and optimizer.step(). These are standard procedures you have to include in your code for every project. When we evaluate the model, we have to specify with torch.no_grad(). We will save the model for after every epoch and compute the validation loss. We will then choose as our final model the one with the lowest validation error."
   ]
  },
  {
   "cell_type": "code",
   "execution_count": 16,
   "id": "c679a7dc",
   "metadata": {},
   "outputs": [],
   "source": [
    "def train_and_val(epochs):\n",
    "    models = []\n",
    "    val_loss_list = []\n",
    "    x = train_loader.dataset.tensors[0].to(device)\n",
    "    y = train_loader.dataset.tensors[1].to(device)\n",
    "    \n",
    "    x2 = test_loader.dataset.tensors[0].to(device)\n",
    "    y2 = test_loader.dataset.tensors[1].to(device)\n",
    "    for j in range(epochs):\n",
    "        train_loss = 0\n",
    "        model.train()\n",
    "        optimizer.zero_grad()\n",
    "        for i in range(len(x)):\n",
    "            y_pred = model(x[i])\n",
    "            single_loss = loss_function(y_pred.float(), y[i].float().view(-1,1))\n",
    "            train_loss += single_loss\n",
    "        train_loss.backward()\n",
    "        optimizer.step()\n",
    "        copymodel = copy.deepcopy(model)\n",
    "        models.append(copymodel)\n",
    "\n",
    "        val_loss = nn.MSELoss()\n",
    "        with torch.no_grad():\n",
    "            model.eval()\n",
    "            validation_x = x2[:validation_size]\n",
    "            validation_y = y2[:validation_size]\n",
    "            validation_loss = 0\n",
    "            for k in range(len(validation_x)):\n",
    "                prediction = model(validation_x[k])\n",
    "                loss = val_loss(prediction.float(), validation_y[k].view(-1,1).float())\n",
    "                validation_loss += loss\n",
    "            val_loss_list.append(validation_loss.item())\n",
    "        print(f\"\\tEpoch: {j}, Train Loss: {train_loss:.4f}, Validation Loss: {validation_loss:.4f}\")\n",
    "    val, idx = min((val, idx) for (idx, val) in enumerate(val_loss_list))\n",
    "    print(idx)\n",
    "    return models[idx]"
   ]
  },
  {
   "cell_type": "code",
   "execution_count": 17,
   "id": "d110147b",
   "metadata": {},
   "outputs": [
    {
     "name": "stdout",
     "output_type": "stream",
     "text": [
      "\tEpoch: 0, Train Loss: 302.6377, Validation Loss: 0.6075\n",
      "\tEpoch: 1, Train Loss: 252.7870, Validation Loss: 0.3733\n",
      "\tEpoch: 2, Train Loss: 206.9572, Validation Loss: 0.1863\n",
      "\tEpoch: 3, Train Loss: 164.0588, Validation Loss: 0.0565\n",
      "\tEpoch: 4, Train Loss: 123.6519, Validation Loss: 0.0064\n",
      "\tEpoch: 5, Train Loss: 86.4130, Validation Loss: 0.0570\n",
      "\tEpoch: 6, Train Loss: 53.8984, Validation Loss: 0.1877\n",
      "\tEpoch: 7, Train Loss: 28.2153, Validation Loss: 0.3184\n",
      "\tEpoch: 8, Train Loss: 13.0220, Validation Loss: 0.3326\n",
      "\tEpoch: 9, Train Loss: 12.3367, Validation Loss: 0.1961\n",
      "\tEpoch: 10, Train Loss: 24.6093, Validation Loss: 0.0519\n",
      "\tEpoch: 11, Train Loss: 34.0134, Validation Loss: 0.0032\n",
      "\tEpoch: 12, Train Loss: 30.0868, Validation Loss: 0.0060\n",
      "\tEpoch: 13, Train Loss: 18.8849, Validation Loss: 0.0135\n",
      "\tEpoch: 14, Train Loss: 9.4924, Validation Loss: 0.0122\n",
      "\tEpoch: 15, Train Loss: 5.6556, Validation Loss: 0.0059\n",
      "\tEpoch: 16, Train Loss: 6.2561, Validation Loss: 0.0031\n",
      "\tEpoch: 17, Train Loss: 8.7528, Validation Loss: 0.0114\n",
      "\tEpoch: 18, Train Loss: 11.2988, Validation Loss: 0.0326\n",
      "\tEpoch: 19, Train Loss: 13.0715, Validation Loss: 0.0616\n",
      "\tEpoch: 20, Train Loss: 13.8251, Validation Loss: 0.0871\n",
      "\tEpoch: 21, Train Loss: 13.4666, Validation Loss: 0.0973\n",
      "\tEpoch: 22, Train Loss: 11.9725, Validation Loss: 0.0873\n",
      "\tEpoch: 23, Train Loss: 9.5599, Validation Loss: 0.0622\n",
      "\tEpoch: 24, Train Loss: 6.8028, Validation Loss: 0.0333\n",
      "\tEpoch: 25, Train Loss: 4.4837, Validation Loss: 0.0119\n",
      "\tEpoch: 26, Train Loss: 3.2463, Validation Loss: 0.0028\n",
      "\tEpoch: 27, Train Loss: 3.2798, Validation Loss: 0.0032\n",
      "\tEpoch: 28, Train Loss: 4.2314, Validation Loss: 0.0064\n",
      "\tEpoch: 29, Train Loss: 5.4103, Validation Loss: 0.0070\n",
      "\tEpoch: 30, Train Loss: 6.1665, Validation Loss: 0.0045\n",
      "\tEpoch: 31, Train Loss: 6.1938, Validation Loss: 0.0020\n",
      "\tEpoch: 32, Train Loss: 5.5832, Validation Loss: 0.0034\n",
      "\tEpoch: 33, Train Loss: 4.6581, Validation Loss: 0.0098\n",
      "\tEpoch: 34, Train Loss: 3.7527, Validation Loss: 0.0190\n",
      "\tEpoch: 35, Train Loss: 3.0805, Validation Loss: 0.0276\n",
      "\tEpoch: 36, Train Loss: 2.7240, Validation Loss: 0.0333\n",
      "\tEpoch: 37, Train Loss: 2.6792, Validation Loss: 0.0355\n",
      "\tEpoch: 38, Train Loss: 2.8817, Validation Loss: 0.0353\n",
      "\tEpoch: 39, Train Loss: 3.2116, Validation Loss: 0.0343\n",
      "\tEpoch: 40, Train Loss: 3.5147, Validation Loss: 0.0337\n",
      "\tEpoch: 41, Train Loss: 3.6549, Validation Loss: 0.0341\n",
      "\tEpoch: 42, Train Loss: 3.5700, Validation Loss: 0.0356\n",
      "\tEpoch: 43, Train Loss: 3.2956, Validation Loss: 0.0377\n",
      "\tEpoch: 44, Train Loss: 2.9415, Validation Loss: 0.0396\n",
      "\tEpoch: 45, Train Loss: 2.6341, Validation Loss: 0.0403\n",
      "\tEpoch: 46, Train Loss: 2.4582, Validation Loss: 0.0390\n",
      "\tEpoch: 47, Train Loss: 2.4287, Validation Loss: 0.0356\n",
      "\tEpoch: 48, Train Loss: 2.5034, Validation Loss: 0.0307\n",
      "\tEpoch: 49, Train Loss: 2.6182, Validation Loss: 0.0256\n",
      "31\n"
     ]
    }
   ],
   "source": [
    "chosen_model = train_and_val(epochs).to(\"cpu\")\n",
    "test_x = test_loader.dataset.tensors[0][validation_size:]\n",
    "test_y = test_loader.dataset.tensors[1][validation_size:]"
   ]
  },
  {
   "cell_type": "markdown",
   "id": "30bd67eb",
   "metadata": {},
   "source": [
    "Recall that before training our RNN, we scaled our input data to make it easier for the neural network to perform gradient descent. After training our model, we now need to convert our predictions back to their original scale. This is done through the inverse function. "
   ]
  },
  {
   "cell_type": "code",
   "execution_count": 8,
   "id": "6555a3e9",
   "metadata": {},
   "outputs": [
    {
     "name": "stderr",
     "output_type": "stream",
     "text": [
      "/usr/local/lib/python3.7/site-packages/ipykernel_launcher.py:11: UserWarning: To copy construct from a tensor, it is recommended to use sourceTensor.clone().detach() or sourceTensor.clone().detach().requires_grad_(True), rather than torch.tensor(sourceTensor).\n",
      "  # This is added back by InteractiveShellApp.init_path()\n"
     ]
    },
    {
     "data": {
      "text/plain": [
       "[<matplotlib.lines.Line2D at 0x14bb455c0>]"
      ]
     },
     "execution_count": 8,
     "metadata": {},
     "output_type": "execute_result"
    },
    {
     "data": {
      "image/png": "[encoded data removed]",
      "text/plain": [
       "<Figure size 432x288 with 1 Axes>"
      ]
     },
     "metadata": {
      "needs_background": "light"
     },
     "output_type": "display_data"
    }
   ],
   "source": [
    "model.to(\"cpu\")\n",
    "test_predictions = []\n",
    "tests = []\n",
    "for i in range(len(test_x)):\n",
    "    prediction = chosen_model(test_x[i]).view(-1).detach().tolist()\n",
    "    test_predictions.append(prediction)\n",
    "    test = test_y[i].tolist()\n",
    "    tests.append(test)\n",
    "    \n",
    "def inverse(y, scaler):\n",
    "    d = torch.cat([torch.tensor(y),torch.tensor(y)], dim=-1).numpy()\n",
    "    d = scaler.inverse_transform(d)\n",
    "    return d\n",
    "\n",
    "test_predictions = inverse(torch.tensor(test_predictions).view(-1,1),scaler)[:,1][:pred_size]\n",
    "tests = inverse(torch.tensor(tests).view(-1,1),scaler)[:,1][:pred_size]\n",
    "plt.plot(test_predictions)\n",
    "plt.plot(tests)"
   ]
  },
  {
   "cell_type": "markdown",
   "id": "05a3a53f",
   "metadata": {},
   "source": [
    "We end by plotting the our predictions (orange) against the actual observed values. We see that for the first few steps our model does pretty well, however the performance drops quite siginificantly for the last few steps. Below is the code used to evluate the performance of a time series prediction model. Have a look at the formula for the normalised-mean-squared-error and the mean-absolute-percentage-error on wikipedia to make sure you understand what they are measuring."
   ]
  },
  {
   "cell_type": "code",
   "execution_count": 9,
   "id": "ea5d2dd8",
   "metadata": {},
   "outputs": [],
   "source": [
    "def compute_nrmse(prediction,actual):\n",
    "    #prediction = prediction.tolist()\n",
    "    actual = actual.tolist()\n",
    "    mse = []\n",
    "    for i in range(len(prediction)):\n",
    "       mse.append((prediction[i]-actual[i])**2)\n",
    "    nrmse = ((sum(mse)/len(actual))**0.5)/np.mean(actual)\n",
    "    return nrmse \n",
    "\n",
    "def compute_mape(prediction,actual):\n",
    "    #prediction = prediction.tolist()\n",
    "    actual = actual.tolist()\n",
    "    mape = []\n",
    "    for i in range(len(prediction)):\n",
    "       mape.append(abs(actual[i]-prediction[i])/actual[i])  \n",
    "    mape = sum(mape)/len(actual)\n",
    "    return mape"
   ]
  },
  {
   "cell_type": "code",
   "execution_count": 10,
   "id": "f566c4bd",
   "metadata": {},
   "outputs": [
    {
     "data": {
      "text/plain": [
       "0.0009620013031295479"
      ]
     },
     "execution_count": 10,
     "metadata": {},
     "output_type": "execute_result"
    }
   ],
   "source": [
    "compute_nrmse(test_predictions,tests)"
   ]
  },
  {
   "cell_type": "code",
   "execution_count": 11,
   "id": "0cf6a142",
   "metadata": {},
   "outputs": [
    {
     "data": {
      "text/plain": [
       "0.0006394791482696197"
      ]
     },
     "execution_count": 11,
     "metadata": {},
     "output_type": "execute_result"
    }
   ],
   "source": [
    "compute_mape(test_predictions,tests)"
   ]
  },
  {
   "cell_type": "code",
   "execution_count": null,
   "id": "e473ad8e",
   "metadata": {},
   "outputs": [],
   "source": []
  }
 ],
 "metadata": {
  "kernelspec": {
   "display_name": "Python 3 (ipykernel)",
   "language": "python",
   "name": "python3"
  },
  "language_info": {
   "codemirror_mode": {
    "name": "ipython",
    "version": 3
   },
   "file_extension": ".py",
   "mimetype": "text/x-python",
   "name": "python",
   "nbconvert_exporter": "python",
   "pygments_lexer": "ipython3",
   "version": "3.7.3"
  }
 },
 "nbformat": 4,
 "nbformat_minor": 5
}
