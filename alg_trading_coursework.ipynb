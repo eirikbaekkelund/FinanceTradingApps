{
 "cells": [
  {
   "cell_type": "code",
   "execution_count": 11,
   "metadata": {},
   "outputs": [],
   "source": [
    "import yfinance as yf\n",
    "import numpy as np\n",
    "import pandas as pd\n",
    "import pandas_market_calendars as mcal"
   ]
  },
  {
   "cell_type": "code",
   "execution_count": 2,
   "metadata": {},
   "outputs": [
    {
     "name": "stdout",
     "output_type": "stream",
     "text": [
      "[*********************100%***********************]  1 of 1 completed\n"
     ]
    }
   ],
   "source": [
    "aapl = yf.download(tickers='AAPL', start='2020-01-01', end='2023-01-01')"
   ]
  },
  {
   "cell_type": "code",
   "execution_count": 4,
   "metadata": {},
   "outputs": [
    {
     "data": {
      "text/html": [
       "<div>\n",
       "<style scoped>\n",
       "    .dataframe tbody tr th:only-of-type {\n",
       "        vertical-align: middle;\n",
       "    }\n",
       "\n",
       "    .dataframe tbody tr th {\n",
       "        vertical-align: top;\n",
       "    }\n",
       "\n",
       "    .dataframe thead th {\n",
       "        text-align: right;\n",
       "    }\n",
       "</style>\n",
       "<table border=\"1\" class=\"dataframe\">\n",
       "  <thead>\n",
       "    <tr style=\"text-align: right;\">\n",
       "      <th></th>\n",
       "      <th>Open</th>\n",
       "      <th>High</th>\n",
       "      <th>Low</th>\n",
       "      <th>Close</th>\n",
       "      <th>Adj Close</th>\n",
       "      <th>Volume</th>\n",
       "    </tr>\n",
       "  </thead>\n",
       "  <tbody>\n",
       "    <tr>\n",
       "      <th>count</th>\n",
       "      <td>756.000000</td>\n",
       "      <td>756.000000</td>\n",
       "      <td>756.000000</td>\n",
       "      <td>756.000000</td>\n",
       "      <td>756.000000</td>\n",
       "      <td>7.560000e+02</td>\n",
       "    </tr>\n",
       "    <tr>\n",
       "      <th>mean</th>\n",
       "      <td>130.231998</td>\n",
       "      <td>131.892775</td>\n",
       "      <td>128.614983</td>\n",
       "      <td>130.311812</td>\n",
       "      <td>129.286406</td>\n",
       "      <td>1.120919e+08</td>\n",
       "    </tr>\n",
       "    <tr>\n",
       "      <th>std</th>\n",
       "      <td>30.596429</td>\n",
       "      <td>30.841435</td>\n",
       "      <td>30.287325</td>\n",
       "      <td>30.566496</td>\n",
       "      <td>30.815528</td>\n",
       "      <td>5.602592e+07</td>\n",
       "    </tr>\n",
       "    <tr>\n",
       "      <th>min</th>\n",
       "      <td>57.020000</td>\n",
       "      <td>57.125000</td>\n",
       "      <td>53.152500</td>\n",
       "      <td>56.092499</td>\n",
       "      <td>55.082977</td>\n",
       "      <td>3.519590e+07</td>\n",
       "    </tr>\n",
       "    <tr>\n",
       "      <th>25%</th>\n",
       "      <td>115.924374</td>\n",
       "      <td>117.275000</td>\n",
       "      <td>114.129997</td>\n",
       "      <td>115.739374</td>\n",
       "      <td>114.169506</td>\n",
       "      <td>7.636470e+07</td>\n",
       "    </tr>\n",
       "    <tr>\n",
       "      <th>50%</th>\n",
       "      <td>135.794998</td>\n",
       "      <td>137.200005</td>\n",
       "      <td>133.750000</td>\n",
       "      <td>135.379997</td>\n",
       "      <td>134.733742</td>\n",
       "      <td>9.493580e+07</td>\n",
       "    </tr>\n",
       "    <tr>\n",
       "      <th>75%</th>\n",
       "      <td>150.259998</td>\n",
       "      <td>151.902504</td>\n",
       "      <td>149.029995</td>\n",
       "      <td>150.704998</td>\n",
       "      <td>150.141518</td>\n",
       "      <td>1.296327e+08</td>\n",
       "    </tr>\n",
       "    <tr>\n",
       "      <th>max</th>\n",
       "      <td>182.630005</td>\n",
       "      <td>182.940002</td>\n",
       "      <td>179.119995</td>\n",
       "      <td>182.009995</td>\n",
       "      <td>180.959732</td>\n",
       "      <td>4.265100e+08</td>\n",
       "    </tr>\n",
       "  </tbody>\n",
       "</table>\n",
       "</div>"
      ],
      "text/plain": [
       "             Open        High         Low       Close   Adj Close  \\\n",
       "count  756.000000  756.000000  756.000000  756.000000  756.000000   \n",
       "mean   130.231998  131.892775  128.614983  130.311812  129.286406   \n",
       "std     30.596429   30.841435   30.287325   30.566496   30.815528   \n",
       "min     57.020000   57.125000   53.152500   56.092499   55.082977   \n",
       "25%    115.924374  117.275000  114.129997  115.739374  114.169506   \n",
       "50%    135.794998  137.200005  133.750000  135.379997  134.733742   \n",
       "75%    150.259998  151.902504  149.029995  150.704998  150.141518   \n",
       "max    182.630005  182.940002  179.119995  182.009995  180.959732   \n",
       "\n",
       "             Volume  \n",
       "count  7.560000e+02  \n",
       "mean   1.120919e+08  \n",
       "std    5.602592e+07  \n",
       "min    3.519590e+07  \n",
       "25%    7.636470e+07  \n",
       "50%    9.493580e+07  \n",
       "75%    1.296327e+08  \n",
       "max    4.265100e+08  "
      ]
     },
     "execution_count": 4,
     "metadata": {},
     "output_type": "execute_result"
    }
   ],
   "source": [
    "aapl.describe()"
   ]
  },
  {
   "cell_type": "code",
   "execution_count": 15,
   "metadata": {},
   "outputs": [
    {
     "data": {
      "text/html": [
       "<div>\n",
       "<style scoped>\n",
       "    .dataframe tbody tr th:only-of-type {\n",
       "        vertical-align: middle;\n",
       "    }\n",
       "\n",
       "    .dataframe tbody tr th {\n",
       "        vertical-align: top;\n",
       "    }\n",
       "\n",
       "    .dataframe thead th {\n",
       "        text-align: right;\n",
       "    }\n",
       "</style>\n",
       "<table border=\"1\" class=\"dataframe\">\n",
       "  <thead>\n",
       "    <tr style=\"text-align: right;\">\n",
       "      <th></th>\n",
       "      <th>market_open</th>\n",
       "      <th>market_close</th>\n",
       "    </tr>\n",
       "  </thead>\n",
       "  <tbody>\n",
       "    <tr>\n",
       "      <th>2020-01-02</th>\n",
       "      <td>2020-01-02 14:30:00+00:00</td>\n",
       "      <td>2020-01-02 21:00:00+00:00</td>\n",
       "    </tr>\n",
       "    <tr>\n",
       "      <th>2020-01-03</th>\n",
       "      <td>2020-01-03 14:30:00+00:00</td>\n",
       "      <td>2020-01-03 21:00:00+00:00</td>\n",
       "    </tr>\n",
       "    <tr>\n",
       "      <th>2020-01-06</th>\n",
       "      <td>2020-01-06 14:30:00+00:00</td>\n",
       "      <td>2020-01-06 21:00:00+00:00</td>\n",
       "    </tr>\n",
       "    <tr>\n",
       "      <th>2020-01-07</th>\n",
       "      <td>2020-01-07 14:30:00+00:00</td>\n",
       "      <td>2020-01-07 21:00:00+00:00</td>\n",
       "    </tr>\n",
       "    <tr>\n",
       "      <th>2020-01-08</th>\n",
       "      <td>2020-01-08 14:30:00+00:00</td>\n",
       "      <td>2020-01-08 21:00:00+00:00</td>\n",
       "    </tr>\n",
       "    <tr>\n",
       "      <th>...</th>\n",
       "      <td>...</td>\n",
       "      <td>...</td>\n",
       "    </tr>\n",
       "    <tr>\n",
       "      <th>2022-12-23</th>\n",
       "      <td>2022-12-23 14:30:00+00:00</td>\n",
       "      <td>2022-12-23 21:00:00+00:00</td>\n",
       "    </tr>\n",
       "    <tr>\n",
       "      <th>2022-12-27</th>\n",
       "      <td>2022-12-27 14:30:00+00:00</td>\n",
       "      <td>2022-12-27 21:00:00+00:00</td>\n",
       "    </tr>\n",
       "    <tr>\n",
       "      <th>2022-12-28</th>\n",
       "      <td>2022-12-28 14:30:00+00:00</td>\n",
       "      <td>2022-12-28 21:00:00+00:00</td>\n",
       "    </tr>\n",
       "    <tr>\n",
       "      <th>2022-12-29</th>\n",
       "      <td>2022-12-29 14:30:00+00:00</td>\n",
       "      <td>2022-12-29 21:00:00+00:00</td>\n",
       "    </tr>\n",
       "    <tr>\n",
       "      <th>2022-12-30</th>\n",
       "      <td>2022-12-30 14:30:00+00:00</td>\n",
       "      <td>2022-12-30 21:00:00+00:00</td>\n",
       "    </tr>\n",
       "  </tbody>\n",
       "</table>\n",
       "<p>756 rows × 2 columns</p>\n",
       "</div>"
      ],
      "text/plain": [
       "                         market_open              market_close\n",
       "2020-01-02 2020-01-02 14:30:00+00:00 2020-01-02 21:00:00+00:00\n",
       "2020-01-03 2020-01-03 14:30:00+00:00 2020-01-03 21:00:00+00:00\n",
       "2020-01-06 2020-01-06 14:30:00+00:00 2020-01-06 21:00:00+00:00\n",
       "2020-01-07 2020-01-07 14:30:00+00:00 2020-01-07 21:00:00+00:00\n",
       "2020-01-08 2020-01-08 14:30:00+00:00 2020-01-08 21:00:00+00:00\n",
       "...                              ...                       ...\n",
       "2022-12-23 2022-12-23 14:30:00+00:00 2022-12-23 21:00:00+00:00\n",
       "2022-12-27 2022-12-27 14:30:00+00:00 2022-12-27 21:00:00+00:00\n",
       "2022-12-28 2022-12-28 14:30:00+00:00 2022-12-28 21:00:00+00:00\n",
       "2022-12-29 2022-12-29 14:30:00+00:00 2022-12-29 21:00:00+00:00\n",
       "2022-12-30 2022-12-30 14:30:00+00:00 2022-12-30 21:00:00+00:00\n",
       "\n",
       "[756 rows x 2 columns]"
      ]
     },
     "execution_count": 15,
     "metadata": {},
     "output_type": "execute_result"
    }
   ],
   "source": [
    "nyse_trading_days = mcal.get_calendar('NYSE')\n",
    "nyse_schedule = nyse_trading_days.schedule(start_date='2020-01-01', end_date='2023-01-01')\n",
    "nyse_schedule"
   ]
  },
  {
   "attachments": {},
   "cell_type": "markdown",
   "metadata": {},
   "source": [
    "# Data Processing"
   ]
  },
  {
   "cell_type": "code",
   "execution_count": 5,
   "metadata": {},
   "outputs": [
    {
     "data": {
      "text/plain": [
       "Open         0\n",
       "High         0\n",
       "Low          0\n",
       "Close        0\n",
       "Adj Close    0\n",
       "Volume       0\n",
       "dtype: int64"
      ]
     },
     "execution_count": 5,
     "metadata": {},
     "output_type": "execute_result"
    }
   ],
   "source": [
    "aapl.isna().sum()"
   ]
  },
  {
   "cell_type": "code",
   "execution_count": 6,
   "metadata": {},
   "outputs": [
    {
     "data": {
      "text/plain": [
       "Open         float64\n",
       "High         float64\n",
       "Low          float64\n",
       "Close        float64\n",
       "Adj Close    float64\n",
       "Volume         int64\n",
       "dtype: object"
      ]
     },
     "execution_count": 6,
     "metadata": {},
     "output_type": "execute_result"
    }
   ],
   "source": [
    "aapl.dtypes"
   ]
  },
  {
   "cell_type": "code",
   "execution_count": null,
   "metadata": {},
   "outputs": [],
   "source": [
    "def moving_avg(df):\n",
    "    \"\"\" \n",
    "    \n",
    "    \"\"\"\n",
    "    "
   ]
  }
 ],
 "metadata": {
  "kernelspec": {
   "display_name": "base",
   "language": "python",
   "name": "python3"
  },
  "language_info": {
   "codemirror_mode": {
    "name": "ipython",
    "version": 3
   },
   "file_extension": ".py",
   "mimetype": "text/x-python",
   "name": "python",
   "nbconvert_exporter": "python",
   "pygments_lexer": "ipython3",
   "version": "3.9.13"
  },
  "orig_nbformat": 4,
  "vscode": {
   "interpreter": {
    "hash": "fe3f05434994f8f40b62b7a842a4d284a09e5cdb62d98927152580f7c19a8881"
   }
  }
 },
 "nbformat": 4,
 "nbformat_minor": 2
}
